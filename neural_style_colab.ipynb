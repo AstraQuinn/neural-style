{
  "nbformat": 4,
  "nbformat_minor": 0,
  "metadata": {
    "colab": {
      "name": "neural-style-colab.ipynb",
      "private_outputs": true,
      "provenance": [],
      "toc_visible": true,
      "authorship_tag": "ABX9TyPOj8qfsCtihCw/lhIJq/fP"
    },
    "kernelspec": {
      "name": "python3",
      "display_name": "Python 3"
    },
    "accelerator": "GPU"
  },
  "cells": [
    {
      "cell_type": "markdown",
      "metadata": {
        "id": "Fs9j7cPu9Uwx"
      },
      "source": [
        "Step 1: Download code, dependencies, and neural net model"
      ]
    },
    {
      "cell_type": "code",
      "metadata": {
        "id": "v_82mTIo3xIi"
      },
      "source": [
        "import urllib.request, shutil\n",
        "!git clone https://github.com/anishathalye/neural-style.git\n",
        "!pip3 install --upgrade pip\n",
        "# pip will throw some scary errors about dependency mismatches, ignore them.\n",
        "!pip3 install gast==0.3.3 tensorboard==2.4 tensorflow-estimator==2.4.0 scipy==1.2.0 imgaug==0.2.5 numpy==1.16.0\n",
        "!pip3 install -r neural-style/requirements.txt\n",
        "!wget https://www.vlfeat.org/matconvnet/models/imagenet-vgg-verydeep-19.mat -O neural-style/imagenet-vgg-verydeep-19.mat\n",
        "\n"
      ],
      "execution_count": null,
      "outputs": []
    },
    {
      "cell_type": "markdown",
      "metadata": {
        "id": "hX3KKdMREdvO"
      },
      "source": [
        "Step 2: Download image files via http"
      ]
    },
    {
      "cell_type": "code",
      "metadata": {
        "id": "jut6wY1d8Qnt"
      },
      "source": [
        "content_image = \"https://i.imgur.com/oNqfeRS.jpeg\"\n",
        "style_image = \"https://i.imgur.com/I5NxEcF.jpg\"\n",
        "\n",
        "with urllib.request.urlopen(content_image) as response, open('./content_image', 'wb') as out_file:\n",
        "    shutil.copyfileobj(response, out_file)\n",
        "\n",
        "with urllib.request.urlopen(content_image) as response, open('./style_image', 'wb') as out_file:\n",
        "    shutil.copyfileobj(response, out_file)"
      ],
      "execution_count": null,
      "outputs": []
    },
    {
      "cell_type": "markdown",
      "metadata": {
        "id": "oHmcFaIREsXC"
      },
      "source": [
        "Step 3: Run the script."
      ]
    },
    {
      "cell_type": "code",
      "metadata": {
        "id": "5tJzNgU__9-S"
      },
      "source": [
        "!rm -rf output_dir/\n",
        "!mkdir -v output_dir\n",
        "!python3 neural-style/neural_style.py --network neural-style/imagenet-vgg-verydeep-19.mat --content './content_image' --styles \"./style_image\" \\\n",
        "  --tv-weight 5E-05 --checkpoint-iterations 200 --checkpoint-output \"output_dir/output_{:05}.jpg\" --output ./output_dir/output_image.jpg \\\n",
        "  --style-layer-weight-exp 0.3 --tv-weight 5E-05 --style-weight 3 --content-weight 1 --iterations 1000"
      ],
      "execution_count": null,
      "outputs": []
    },
    {
      "cell_type": "code",
      "metadata": {
        "id": "bL8eyvmLJXK3"
      },
      "source": [
        "!python3 neural-style/neural_style.py --help"
      ],
      "execution_count": null,
      "outputs": []
    }
  ]
}